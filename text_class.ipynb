{
  "nbformat": 4,
  "nbformat_minor": 0,
  "metadata": {
    "colab": {
      "name": "text_class.ipynb",
      "version": "0.3.2",
      "provenance": [],
      "collapsed_sections": [],
      "include_colab_link": true
    },
    "kernelspec": {
      "name": "python3",
      "display_name": "Python 3"
    },
    "accelerator": "GPU"
  },
  "cells": [
    {
      "cell_type": "markdown",
      "metadata": {
        "id": "view-in-github",
        "colab_type": "text"
      },
      "source": [
        "<a href=\"https://colab.research.google.com/github/rajkhatana/Khatana/blob/master/text_class.ipynb\" target=\"_parent\"><img src=\"https://colab.research.google.com/assets/colab-badge.svg\" alt=\"Open In Colab\"/></a>"
      ]
    },
    {
      "cell_type": "code",
      "metadata": {
        "id": "FlSiRPJgpdjA",
        "colab_type": "code",
        "outputId": "3c11740a-4775-4fe4-a18c-10dcf9286909",
        "colab": {
          "base_uri": "https://localhost:8080/",
          "height": 51
        }
      },
      "source": [
        "import numpy as np\n",
        "import pandas as pd\n",
        "import nltk\n",
        "import matplotlib.pyplot as plt\n",
        "import seaborn as sbn\n",
        "from nltk.corpus import stopwords\n",
        "from nltk.stem import PorterStemmer\n",
        "import re\n",
        "from sklearn.feature_extraction.text import TfidfVectorizer\n",
        "nltk.download('stopwords')\n",
        "%matplotlib inline"
      ],
      "execution_count": 242,
      "outputs": [
        {
          "output_type": "stream",
          "text": [
            "[nltk_data] Downloading package stopwords to /root/nltk_data...\n",
            "[nltk_data]   Package stopwords is already up-to-date!\n"
          ],
          "name": "stdout"
        }
      ]
    },
    {
      "cell_type": "code",
      "metadata": {
        "id": "U-wWtsAcqVPJ",
        "colab_type": "code",
        "outputId": "032f9ea4-b409-4700-9fd6-f283e52113a3",
        "colab": {
          "base_uri": "https://localhost:8080/",
          "height": 359
        }
      },
      "source": [
        "## load dataset\n",
        "df = pd.read_csv(\"bbc-text.csv\")\n",
        "df.head(10)"
      ],
      "execution_count": 243,
      "outputs": [
        {
          "output_type": "execute_result",
          "data": {
            "text/html": [
              "<div>\n",
              "<style scoped>\n",
              "    .dataframe tbody tr th:only-of-type {\n",
              "        vertical-align: middle;\n",
              "    }\n",
              "\n",
              "    .dataframe tbody tr th {\n",
              "        vertical-align: top;\n",
              "    }\n",
              "\n",
              "    .dataframe thead th {\n",
              "        text-align: right;\n",
              "    }\n",
              "</style>\n",
              "<table border=\"1\" class=\"dataframe\">\n",
              "  <thead>\n",
              "    <tr style=\"text-align: right;\">\n",
              "      <th></th>\n",
              "      <th>category</th>\n",
              "      <th>text</th>\n",
              "    </tr>\n",
              "  </thead>\n",
              "  <tbody>\n",
              "    <tr>\n",
              "      <th>0</th>\n",
              "      <td>tech</td>\n",
              "      <td>tv future in the hands of viewers with home th...</td>\n",
              "    </tr>\n",
              "    <tr>\n",
              "      <th>1</th>\n",
              "      <td>business</td>\n",
              "      <td>worldcom boss  left books alone  former worldc...</td>\n",
              "    </tr>\n",
              "    <tr>\n",
              "      <th>2</th>\n",
              "      <td>sport</td>\n",
              "      <td>tigers wary of farrell  gamble  leicester say ...</td>\n",
              "    </tr>\n",
              "    <tr>\n",
              "      <th>3</th>\n",
              "      <td>sport</td>\n",
              "      <td>yeading face newcastle in fa cup premiership s...</td>\n",
              "    </tr>\n",
              "    <tr>\n",
              "      <th>4</th>\n",
              "      <td>entertainment</td>\n",
              "      <td>ocean s twelve raids box office ocean s twelve...</td>\n",
              "    </tr>\n",
              "    <tr>\n",
              "      <th>5</th>\n",
              "      <td>politics</td>\n",
              "      <td>howard hits back at mongrel jibe michael howar...</td>\n",
              "    </tr>\n",
              "    <tr>\n",
              "      <th>6</th>\n",
              "      <td>politics</td>\n",
              "      <td>blair prepares to name poll date tony blair is...</td>\n",
              "    </tr>\n",
              "    <tr>\n",
              "      <th>7</th>\n",
              "      <td>sport</td>\n",
              "      <td>henman hopes ended in dubai third seed tim hen...</td>\n",
              "    </tr>\n",
              "    <tr>\n",
              "      <th>8</th>\n",
              "      <td>sport</td>\n",
              "      <td>wilkinson fit to face edinburgh england captai...</td>\n",
              "    </tr>\n",
              "    <tr>\n",
              "      <th>9</th>\n",
              "      <td>entertainment</td>\n",
              "      <td>last star wars  not for children  the sixth an...</td>\n",
              "    </tr>\n",
              "  </tbody>\n",
              "</table>\n",
              "</div>"
            ],
            "text/plain": [
              "        category                                               text\n",
              "0           tech  tv future in the hands of viewers with home th...\n",
              "1       business  worldcom boss  left books alone  former worldc...\n",
              "2          sport  tigers wary of farrell  gamble  leicester say ...\n",
              "3          sport  yeading face newcastle in fa cup premiership s...\n",
              "4  entertainment  ocean s twelve raids box office ocean s twelve...\n",
              "5       politics  howard hits back at mongrel jibe michael howar...\n",
              "6       politics  blair prepares to name poll date tony blair is...\n",
              "7          sport  henman hopes ended in dubai third seed tim hen...\n",
              "8          sport  wilkinson fit to face edinburgh england captai...\n",
              "9  entertainment  last star wars  not for children  the sixth an..."
            ]
          },
          "metadata": {
            "tags": []
          },
          "execution_count": 243
        }
      ]
    },
    {
      "cell_type": "code",
      "metadata": {
        "id": "Ud5SflINvQIu",
        "colab_type": "code",
        "outputId": "196cc041-83a3-46d0-9326-de22e0371d78",
        "colab": {
          "base_uri": "https://localhost:8080/",
          "height": 34
        }
      },
      "source": [
        "df.shape"
      ],
      "execution_count": 244,
      "outputs": [
        {
          "output_type": "execute_result",
          "data": {
            "text/plain": [
              "(2225, 2)"
            ]
          },
          "metadata": {
            "tags": []
          },
          "execution_count": 244
        }
      ]
    },
    {
      "cell_type": "code",
      "metadata": {
        "id": "yzkigBUhrfFI",
        "colab_type": "code",
        "outputId": "e6aec332-dee0-4fd1-d070-da5844bedd35",
        "colab": {
          "base_uri": "https://localhost:8080/",
          "height": 54
        }
      },
      "source": [
        "df['text'][0]"
      ],
      "execution_count": 245,
      "outputs": [
        {
          "output_type": "execute_result",
          "data": {
            "text/plain": [
              "'tv future in the hands of viewers with home theatre systems  plasma high-definition tvs  and digital video recorders moving into the living room  the way people watch tv will be radically different in five years  time.  that is according to an expert panel which gathered at the annual consumer electronics show in las vegas to discuss how these new technologies will impact one of our favourite pastimes. with the us leading the trend  programmes and other content will be delivered to viewers via home networks  through cable  satellite  telecoms companies  and broadband service providers to front rooms and portable devices.  one of the most talked-about technologies of ces has been digital and personal video recorders (dvr and pvr). these set-top boxes  like the us s tivo and the uk s sky+ system  allow people to record  store  play  pause and forward wind tv programmes when they want.  essentially  the technology allows for much more personalised tv. they are also being built-in to high-definition tv sets  which are big business in japan and the us  but slower to take off in europe because of the lack of high-definition programming. not only can people forward wind through adverts  they can also forget about abiding by network and channel schedules  putting together their own a-la-carte entertainment. but some us networks and cable and satellite companies are worried about what it means for them in terms of advertising revenues as well as  brand identity  and viewer loyalty to channels. although the us leads in this technology at the moment  it is also a concern that is being raised in europe  particularly with the growing uptake of services like sky+.  what happens here today  we will see in nine months to a years  time in the uk   adam hume  the bbc broadcast s futurologist told the bbc news website. for the likes of the bbc  there are no issues of lost advertising revenue yet. it is a more pressing issue at the moment for commercial uk broadcasters  but brand loyalty is important for everyone.  we will be talking more about content brands rather than network brands   said tim hanlon  from brand communications firm starcom mediavest.  the reality is that with broadband connections  anybody can be the producer of content.  he added:  the challenge now is that it is hard to promote a programme with so much choice.   what this means  said stacey jolna  senior vice president of tv guide tv group  is that the way people find the content they want to watch has to be simplified for tv viewers. it means that networks  in us terms  or channels could take a leaf out of google s book and be the search engine of the future  instead of the scheduler to help people find what they want to watch. this kind of channel model might work for the younger ipod generation which is used to taking control of their gadgets and what they play on them. but it might not suit everyone  the panel recognised. older generations are more comfortable with familiar schedules and channel brands because they know what they are getting. they perhaps do not want so much of the choice put into their hands  mr hanlon suggested.  on the other end  you have the kids just out of diapers who are pushing buttons already - everything is possible and available to them   said mr hanlon.  ultimately  the consumer will tell the market they want.   of the 50 000 new gadgets and technologies being showcased at ces  many of them are about enhancing the tv-watching experience. high-definition tv sets are everywhere and many new models of lcd (liquid crystal display) tvs have been launched with dvr capability built into them  instead of being external boxes. one such example launched at the show is humax s 26-inch lcd tv with an 80-hour tivo dvr and dvd recorder. one of the us s biggest satellite tv companies  directtv  has even launched its own branded dvr at the show with 100-hours of recording capability  instant replay  and a search function. the set can pause and rewind tv for up to 90 hours. and microsoft chief bill gates announced in his pre-show keynote speech a partnership with tivo  called tivotogo  which means people can play recorded programmes on windows pcs and mobile devices. all these reflect the increasing trend of freeing up multimedia so that people can watch what they want  when they want.'"
            ]
          },
          "metadata": {
            "tags": []
          },
          "execution_count": 245
        }
      ]
    },
    {
      "cell_type": "code",
      "metadata": {
        "id": "2I2u8Q7Aqeez",
        "colab_type": "code",
        "outputId": "f2821d3b-4037-40c6-843a-d4cb7297acae",
        "colab": {
          "base_uri": "https://localhost:8080/",
          "height": 51
        }
      },
      "source": [
        "df['category'].unique()"
      ],
      "execution_count": 246,
      "outputs": [
        {
          "output_type": "execute_result",
          "data": {
            "text/plain": [
              "array(['tech', 'business', 'sport', 'entertainment', 'politics'],\n",
              "      dtype=object)"
            ]
          },
          "metadata": {
            "tags": []
          },
          "execution_count": 246
        }
      ]
    },
    {
      "cell_type": "code",
      "metadata": {
        "id": "RjgHPIBvq7SP",
        "colab_type": "code",
        "outputId": "6f15cba3-c51d-4934-8664-338c6494c0e7",
        "colab": {
          "base_uri": "https://localhost:8080/",
          "height": 119
        }
      },
      "source": [
        "df['category'].value_counts()"
      ],
      "execution_count": 247,
      "outputs": [
        {
          "output_type": "execute_result",
          "data": {
            "text/plain": [
              "sport            511\n",
              "business         510\n",
              "politics         417\n",
              "tech             401\n",
              "entertainment    386\n",
              "Name: category, dtype: int64"
            ]
          },
          "metadata": {
            "tags": []
          },
          "execution_count": 247
        }
      ]
    },
    {
      "cell_type": "code",
      "metadata": {
        "id": "QV8whH9Ayif1",
        "colab_type": "code",
        "outputId": "b7403156-49fe-41c0-b65f-948e5be92fbd",
        "colab": {
          "base_uri": "https://localhost:8080/",
          "height": 303
        }
      },
      "source": [
        "sbn.countplot(df['category'])"
      ],
      "execution_count": 248,
      "outputs": [
        {
          "output_type": "execute_result",
          "data": {
            "text/plain": [
              "<matplotlib.axes._subplots.AxesSubplot at 0x7f449c30dc50>"
            ]
          },
          "metadata": {
            "tags": []
          },
          "execution_count": 248
        },
        {
          "output_type": "display_data",
          "data": {
            "image/png": "[encoded data removed]",
            "text/plain": [
              "<Figure size 432x288 with 1 Axes>"
            ]
          },
          "metadata": {
            "tags": []
          }
        }
      ]
    },
    {
      "cell_type": "code",
      "metadata": {
        "id": "o9e57WOhrGQ8",
        "colab_type": "code",
        "outputId": "a468c987-0d8f-45ff-db5c-302736f92b71",
        "colab": {
          "base_uri": "https://localhost:8080/",
          "height": 204
        }
      },
      "source": [
        "# Use sklearn utility to convert label strings to numbered index\n",
        "from sklearn.preprocessing import LabelEncoder\n",
        "df[\"category\"] = LabelEncoder().fit_transform(df[\"category\"])\n",
        "df.head()"
      ],
      "execution_count": 249,
      "outputs": [
        {
          "output_type": "execute_result",
          "data": {
            "text/html": [
              "<div>\n",
              "<style scoped>\n",
              "    .dataframe tbody tr th:only-of-type {\n",
              "        vertical-align: middle;\n",
              "    }\n",
              "\n",
              "    .dataframe tbody tr th {\n",
              "        vertical-align: top;\n",
              "    }\n",
              "\n",
              "    .dataframe thead th {\n",
              "        text-align: right;\n",
              "    }\n",
              "</style>\n",
              "<table border=\"1\" class=\"dataframe\">\n",
              "  <thead>\n",
              "    <tr style=\"text-align: right;\">\n",
              "      <th></th>\n",
              "      <th>category</th>\n",
              "      <th>text</th>\n",
              "    </tr>\n",
              "  </thead>\n",
              "  <tbody>\n",
              "    <tr>\n",
              "      <th>0</th>\n",
              "      <td>4</td>\n",
              "      <td>tv future in the hands of viewers with home th...</td>\n",
              "    </tr>\n",
              "    <tr>\n",
              "      <th>1</th>\n",
              "      <td>0</td>\n",
              "      <td>worldcom boss  left books alone  former worldc...</td>\n",
              "    </tr>\n",
              "    <tr>\n",
              "      <th>2</th>\n",
              "      <td>3</td>\n",
              "      <td>tigers wary of farrell  gamble  leicester say ...</td>\n",
              "    </tr>\n",
              "    <tr>\n",
              "      <th>3</th>\n",
              "      <td>3</td>\n",
              "      <td>yeading face newcastle in fa cup premiership s...</td>\n",
              "    </tr>\n",
              "    <tr>\n",
              "      <th>4</th>\n",
              "      <td>1</td>\n",
              "      <td>ocean s twelve raids box office ocean s twelve...</td>\n",
              "    </tr>\n",
              "  </tbody>\n",
              "</table>\n",
              "</div>"
            ],
            "text/plain": [
              "   category                                               text\n",
              "0         4  tv future in the hands of viewers with home th...\n",
              "1         0  worldcom boss  left books alone  former worldc...\n",
              "2         3  tigers wary of farrell  gamble  leicester say ...\n",
              "3         3  yeading face newcastle in fa cup premiership s...\n",
              "4         1  ocean s twelve raids box office ocean s twelve..."
            ]
          },
          "metadata": {
            "tags": []
          },
          "execution_count": 249
        }
      ]
    },
    {
      "cell_type": "code",
      "metadata": {
        "colab_type": "code",
        "outputId": "7e1aa317-f5a5-4d7e-c9a8-2f31fff48044",
        "id": "ya9VwcOenJzN",
        "colab": {
          "base_uri": "https://localhost:8080/",
          "height": 204
        }
      },
      "source": [
        "#tokenize the words (text)\n",
        "stemmer = PorterStemmer()\n",
        "words = stopwords.words(\"english\")\n",
        "df['text'] = df['text'].apply(lambda x: \" \".join([stemmer.stem(i) for i in re.sub(\"[^a-zA-Z]\", \" \", x).split() if i not in words]).lower())\n",
        "vectorizer = TfidfVectorizer(min_df= 3, stop_words=\"english\", sublinear_tf=True, norm='l2', ngram_range=(1, 2))\n",
        "final_features = vectorizer.fit_transform(df['text']).toarray()\n",
        "df.head()"
      ],
      "execution_count": 250,
      "outputs": [
        {
          "output_type": "execute_result",
          "data": {
            "text/html": [
              "<div>\n",
              "<style scoped>\n",
              "    .dataframe tbody tr th:only-of-type {\n",
              "        vertical-align: middle;\n",
              "    }\n",
              "\n",
              "    .dataframe tbody tr th {\n",
              "        vertical-align: top;\n",
              "    }\n",
              "\n",
              "    .dataframe thead th {\n",
              "        text-align: right;\n",
              "    }\n",
              "</style>\n",
              "<table border=\"1\" class=\"dataframe\">\n",
              "  <thead>\n",
              "    <tr style=\"text-align: right;\">\n",
              "      <th></th>\n",
              "      <th>category</th>\n",
              "      <th>text</th>\n",
              "    </tr>\n",
              "  </thead>\n",
              "  <tbody>\n",
              "    <tr>\n",
              "      <th>0</th>\n",
              "      <td>4</td>\n",
              "      <td>tv futur hand viewer home theatr system plasma...</td>\n",
              "    </tr>\n",
              "    <tr>\n",
              "      <th>1</th>\n",
              "      <td>0</td>\n",
              "      <td>worldcom boss left book alon former worldcom b...</td>\n",
              "    </tr>\n",
              "    <tr>\n",
              "      <th>2</th>\n",
              "      <td>3</td>\n",
              "      <td>tiger wari farrel gambl leicest say rush make ...</td>\n",
              "    </tr>\n",
              "    <tr>\n",
              "      <th>3</th>\n",
              "      <td>3</td>\n",
              "      <td>yead face newcastl fa cup premiership side new...</td>\n",
              "    </tr>\n",
              "    <tr>\n",
              "      <th>4</th>\n",
              "      <td>1</td>\n",
              "      <td>ocean twelv raid box offic ocean twelv crime c...</td>\n",
              "    </tr>\n",
              "  </tbody>\n",
              "</table>\n",
              "</div>"
            ],
            "text/plain": [
              "   category                                               text\n",
              "0         4  tv futur hand viewer home theatr system plasma...\n",
              "1         0  worldcom boss left book alon former worldcom b...\n",
              "2         3  tiger wari farrel gambl leicest say rush make ...\n",
              "3         3  yead face newcastl fa cup premiership side new...\n",
              "4         1  ocean twelv raid box offic ocean twelv crime c..."
            ]
          },
          "metadata": {
            "tags": []
          },
          "execution_count": 250
        }
      ]
    },
    {
      "cell_type": "code",
      "metadata": {
        "id": "XZtNngQ8vZqS",
        "colab_type": "code",
        "outputId": "1c9e3755-a7a1-4991-84b3-b8d7bae05c15",
        "colab": {
          "base_uri": "https://localhost:8080/",
          "height": 85
        }
      },
      "source": [
        "#split the data into training and test sets\n",
        "from sklearn.model_selection import train_test_split\n",
        "X_train, X_test, y_train, y_test = train_test_split(df['text'], df['category'], test_size=0.30, random_state=0)\n",
        "# Inspect the dimenstions of our training and test data\n",
        "print(X_train.shape)\n",
        "print(X_test.shape)\n",
        "print(y_train.shape)\n",
        "print(y_test.shape)"
      ],
      "execution_count": 251,
      "outputs": [
        {
          "output_type": "stream",
          "text": [
            "(1557,)\n",
            "(668,)\n",
            "(1557,)\n",
            "(668,)\n"
          ],
          "name": "stdout"
        }
      ]
    },
    {
      "cell_type": "code",
      "metadata": {
        "id": "x-wFnuxD6QPk",
        "colab_type": "code",
        "colab": {}
      },
      "source": [
        "#convert to a vector with 1000 words\n",
        "from sklearn.feature_extraction.text import CountVectorizer\n",
        "vectorizer = CountVectorizer(max_features = 1000)\n",
        "vectorizer.fit(X_train)\n",
        "\n",
        "X_train = vectorizer.transform(X_train)\n",
        "X_test  = vectorizer.transform(X_test)\n",
        "X_train = X_train.todense()"
      ],
      "execution_count": 0,
      "outputs": []
    },
    {
      "cell_type": "code",
      "metadata": {
        "id": "uvavs6le9wl-",
        "colab_type": "code",
        "outputId": "5d5b4a15-379e-4906-e0ed-1f05202789f8",
        "colab": {
          "base_uri": "https://localhost:8080/",
          "height": 105
        }
      },
      "source": [
        "from sklearn.linear_model import LogisticRegression\n",
        "classifier = LogisticRegression()\n",
        "classifier.fit(X_train, y_train)\n",
        "score = classifier.score(X_test, y_test)\n"
      ],
      "execution_count": 253,
      "outputs": [
        {
          "output_type": "stream",
          "text": [
            "/usr/local/lib/python3.6/dist-packages/sklearn/linear_model/logistic.py:432: FutureWarning: Default solver will be changed to 'lbfgs' in 0.22. Specify a solver to silence this warning.\n",
            "  FutureWarning)\n",
            "/usr/local/lib/python3.6/dist-packages/sklearn/linear_model/logistic.py:469: FutureWarning: Default multi_class will be changed to 'auto' in 0.22. Specify the multi_class option to silence this warning.\n",
            "  \"this warning.\", FutureWarning)\n"
          ],
          "name": "stderr"
        }
      ]
    },
    {
      "cell_type": "code",
      "metadata": {
        "id": "s1MVhtqgmh1B",
        "colab_type": "code",
        "colab": {
          "base_uri": "https://localhost:8080/",
          "height": 34
        },
        "outputId": "a445e0bb-1624-4d41-ace7-30fc7c283324"
      },
      "source": [
        "print(\"Accuracy of Logistic Regression:\", score)"
      ],
      "execution_count": 254,
      "outputs": [
        {
          "output_type": "stream",
          "text": [
            "Accuracy of Logistic Regression: 0.9745508982035929\n"
          ],
          "name": "stdout"
        }
      ]
    },
    {
      "cell_type": "code",
      "metadata": {
        "id": "PuduJbV94IY6",
        "colab_type": "code",
        "colab": {}
      },
      "source": [
        "# Converts the labels to a one-hot representation\n",
        "import keras\n",
        "num_classes = np.max(y_train) + 1\n",
        "y_train = keras.utils.to_categorical(y_train, num_classes)\n",
        "y_test = keras.utils.to_categorical(y_test, num_classes)"
      ],
      "execution_count": 0,
      "outputs": []
    },
    {
      "cell_type": "code",
      "metadata": {
        "id": "MKKD-NfUnngg",
        "colab_type": "code",
        "colab": {}
      },
      "source": [
        "# Build the model\n",
        "from tensorflow import keras\n",
        "layers = keras.layers\n",
        "models = keras.models\n",
        "from keras.models import Sequential\n",
        "from keras.layers import Dense\n",
        "model = Sequential()\n",
        "\n",
        "model.add(Dense(20, input_dim= 1000,activation='relu'))\n",
        "model.add(Dense(20, activation='relu'))\n",
        "model.add(Dense(num_classes , activation='softmax'))"
      ],
      "execution_count": 0,
      "outputs": []
    },
    {
      "cell_type": "code",
      "metadata": {
        "id": "m6yThphW5gu3",
        "colab_type": "code",
        "colab": {}
      },
      "source": [
        "model.compile(loss='categorical_crossentropy',\n",
        "              optimizer='adam',\n",
        "              metrics=['accuracy'])"
      ],
      "execution_count": 0,
      "outputs": []
    },
    {
      "cell_type": "code",
      "metadata": {
        "id": "vzVo8FyE_IuM",
        "colab_type": "code",
        "outputId": "0a06092c-f85b-4049-ad2e-dffd92a21519",
        "colab": {
          "base_uri": "https://localhost:8080/",
          "height": 238
        }
      },
      "source": [
        "model.summary()"
      ],
      "execution_count": 258,
      "outputs": [
        {
          "output_type": "stream",
          "text": [
            "_________________________________________________________________\n",
            "Layer (type)                 Output Shape              Param #   \n",
            "=================================================================\n",
            "dense_46 (Dense)             (None, 20)                20020     \n",
            "_________________________________________________________________\n",
            "dense_47 (Dense)             (None, 20)                420       \n",
            "_________________________________________________________________\n",
            "dense_48 (Dense)             (None, 5)                 105       \n",
            "=================================================================\n",
            "Total params: 20,545\n",
            "Trainable params: 20,545\n",
            "Non-trainable params: 0\n",
            "_________________________________________________________________\n"
          ],
          "name": "stdout"
        }
      ]
    },
    {
      "cell_type": "code",
      "metadata": {
        "id": "Uhn8G_np_UUa",
        "colab_type": "code",
        "outputId": "30be385c-2c59-473d-8308-6bfcf075100d",
        "colab": {
          "base_uri": "https://localhost:8080/",
          "height": 1734
        }
      },
      "source": [
        "history = model.fit(X_train, y_train,\n",
        "                    epochs=50,\n",
        "                    validation_split=0.10,\n",
        "                     batch_size=4)"
      ],
      "execution_count": 259,
      "outputs": [
        {
          "output_type": "stream",
          "text": [
            "Train on 1401 samples, validate on 156 samples\n",
            "Epoch 1/50\n",
            "1401/1401 [==============================] - 2s 2ms/step - loss: 0.6100 - acc: 0.8144 - val_loss: 0.3113 - val_acc: 0.8974\n",
            "Epoch 2/50\n",
            "1401/1401 [==============================] - 1s 901us/step - loss: 0.0733 - acc: 0.9843 - val_loss: 0.1114 - val_acc: 0.9808\n",
            "Epoch 3/50\n",
            "1401/1401 [==============================] - 1s 899us/step - loss: 0.0187 - acc: 0.9979 - val_loss: 0.0808 - val_acc: 0.9808\n",
            "Epoch 4/50\n",
            "1401/1401 [==============================] - 1s 884us/step - loss: 0.0068 - acc: 1.0000 - val_loss: 0.0778 - val_acc: 0.9744\n",
            "Epoch 5/50\n",
            "1401/1401 [==============================] - 1s 929us/step - loss: 0.0039 - acc: 1.0000 - val_loss: 0.0814 - val_acc: 0.9744\n",
            "Epoch 6/50\n",
            "1401/1401 [==============================] - 1s 905us/step - loss: 0.0024 - acc: 1.0000 - val_loss: 0.0764 - val_acc: 0.9744\n",
            "Epoch 7/50\n",
            "1401/1401 [==============================] - 1s 910us/step - loss: 0.0016 - acc: 1.0000 - val_loss: 0.0794 - val_acc: 0.9744\n",
            "Epoch 8/50\n",
            "1401/1401 [==============================] - 1s 868us/step - loss: 0.0011 - acc: 1.0000 - val_loss: 0.0784 - val_acc: 0.9744\n",
            "Epoch 9/50\n",
            "1401/1401 [==============================] - 1s 873us/step - loss: 7.8040e-04 - acc: 1.0000 - val_loss: 0.0783 - val_acc: 0.9744\n",
            "Epoch 10/50\n",
            "1401/1401 [==============================] - 1s 881us/step - loss: 5.6683e-04 - acc: 1.0000 - val_loss: 0.0801 - val_acc: 0.9744\n",
            "Epoch 11/50\n",
            "1401/1401 [==============================] - 1s 880us/step - loss: 4.1964e-04 - acc: 1.0000 - val_loss: 0.0816 - val_acc: 0.9744\n",
            "Epoch 12/50\n",
            "1401/1401 [==============================] - 1s 875us/step - loss: 3.1483e-04 - acc: 1.0000 - val_loss: 0.0842 - val_acc: 0.9744\n",
            "Epoch 13/50\n",
            "1401/1401 [==============================] - 1s 878us/step - loss: 2.4039e-04 - acc: 1.0000 - val_loss: 0.0823 - val_acc: 0.9744\n",
            "Epoch 14/50\n",
            "1401/1401 [==============================] - 1s 904us/step - loss: 1.8510e-04 - acc: 1.0000 - val_loss: 0.0858 - val_acc: 0.9744\n",
            "Epoch 15/50\n",
            "1401/1401 [==============================] - 1s 930us/step - loss: 1.4411e-04 - acc: 1.0000 - val_loss: 0.0892 - val_acc: 0.9744\n",
            "Epoch 16/50\n",
            "1401/1401 [==============================] - 1s 885us/step - loss: 1.1325e-04 - acc: 1.0000 - val_loss: 0.0900 - val_acc: 0.9744\n",
            "Epoch 17/50\n",
            "1401/1401 [==============================] - 1s 901us/step - loss: 8.9144e-05 - acc: 1.0000 - val_loss: 0.0916 - val_acc: 0.9744\n",
            "Epoch 18/50\n",
            "1401/1401 [==============================] - 1s 901us/step - loss: 7.0803e-05 - acc: 1.0000 - val_loss: 0.0950 - val_acc: 0.9744\n",
            "Epoch 19/50\n",
            "1401/1401 [==============================] - 1s 923us/step - loss: 5.6671e-05 - acc: 1.0000 - val_loss: 0.0964 - val_acc: 0.9744\n",
            "Epoch 20/50\n",
            "1401/1401 [==============================] - 1s 880us/step - loss: 4.5506e-05 - acc: 1.0000 - val_loss: 0.0963 - val_acc: 0.9744\n",
            "Epoch 21/50\n",
            "1401/1401 [==============================] - 1s 879us/step - loss: 3.6594e-05 - acc: 1.0000 - val_loss: 0.0998 - val_acc: 0.9744\n",
            "Epoch 22/50\n",
            "1401/1401 [==============================] - 1s 910us/step - loss: 2.9441e-05 - acc: 1.0000 - val_loss: 0.1000 - val_acc: 0.9744\n",
            "Epoch 23/50\n",
            "1401/1401 [==============================] - 1s 874us/step - loss: 2.3763e-05 - acc: 1.0000 - val_loss: 0.1005 - val_acc: 0.9744\n",
            "Epoch 24/50\n",
            "1401/1401 [==============================] - 1s 906us/step - loss: 1.9280e-05 - acc: 1.0000 - val_loss: 0.1030 - val_acc: 0.9744\n",
            "Epoch 25/50\n",
            "1401/1401 [==============================] - 1s 881us/step - loss: 1.5571e-05 - acc: 1.0000 - val_loss: 0.1041 - val_acc: 0.9744\n",
            "Epoch 26/50\n",
            "1401/1401 [==============================] - 1s 868us/step - loss: 1.2621e-05 - acc: 1.0000 - val_loss: 0.1061 - val_acc: 0.9744\n",
            "Epoch 27/50\n",
            "1401/1401 [==============================] - 1s 872us/step - loss: 1.0231e-05 - acc: 1.0000 - val_loss: 0.1099 - val_acc: 0.9744\n",
            "Epoch 28/50\n",
            "1401/1401 [==============================] - 1s 883us/step - loss: 8.3612e-06 - acc: 1.0000 - val_loss: 0.1122 - val_acc: 0.9744\n",
            "Epoch 29/50\n",
            "1401/1401 [==============================] - 1s 873us/step - loss: 6.7757e-06 - acc: 1.0000 - val_loss: 0.1125 - val_acc: 0.9744\n",
            "Epoch 30/50\n",
            "1401/1401 [==============================] - 1s 887us/step - loss: 5.5421e-06 - acc: 1.0000 - val_loss: 0.1159 - val_acc: 0.9744\n",
            "Epoch 31/50\n",
            "1401/1401 [==============================] - 1s 890us/step - loss: 4.5160e-06 - acc: 1.0000 - val_loss: 0.1159 - val_acc: 0.9744\n",
            "Epoch 32/50\n",
            "1401/1401 [==============================] - 1s 885us/step - loss: 3.6901e-06 - acc: 1.0000 - val_loss: 0.1183 - val_acc: 0.9744\n",
            "Epoch 33/50\n",
            "1401/1401 [==============================] - 1s 895us/step - loss: 3.0240e-06 - acc: 1.0000 - val_loss: 0.1203 - val_acc: 0.9744\n",
            "Epoch 34/50\n",
            "1401/1401 [==============================] - 1s 896us/step - loss: 2.4854e-06 - acc: 1.0000 - val_loss: 0.1217 - val_acc: 0.9744\n",
            "Epoch 35/50\n",
            "1401/1401 [==============================] - 1s 882us/step - loss: 2.0442e-06 - acc: 1.0000 - val_loss: 0.1213 - val_acc: 0.9744\n",
            "Epoch 36/50\n",
            "1401/1401 [==============================] - 1s 864us/step - loss: 1.6950e-06 - acc: 1.0000 - val_loss: 0.1263 - val_acc: 0.9744\n",
            "Epoch 37/50\n",
            "1401/1401 [==============================] - 1s 869us/step - loss: 1.4025e-06 - acc: 1.0000 - val_loss: 0.1270 - val_acc: 0.9744\n",
            "Epoch 38/50\n",
            "1401/1401 [==============================] - 1s 877us/step - loss: 1.1615e-06 - acc: 1.0000 - val_loss: 0.1271 - val_acc: 0.9744\n",
            "Epoch 39/50\n",
            "1401/1401 [==============================] - 1s 883us/step - loss: 9.6589e-07 - acc: 1.0000 - val_loss: 0.1272 - val_acc: 0.9744\n",
            "Epoch 40/50\n",
            "1401/1401 [==============================] - 1s 865us/step - loss: 8.0669e-07 - acc: 1.0000 - val_loss: 0.1300 - val_acc: 0.9744\n",
            "Epoch 41/50\n",
            "1401/1401 [==============================] - 1s 845us/step - loss: 6.7676e-07 - acc: 1.0000 - val_loss: 0.1298 - val_acc: 0.9744\n",
            "Epoch 42/50\n",
            "1401/1401 [==============================] - 1s 848us/step - loss: 5.7363e-07 - acc: 1.0000 - val_loss: 0.1328 - val_acc: 0.9744\n",
            "Epoch 43/50\n",
            "1401/1401 [==============================] - 1s 846us/step - loss: 4.8343e-07 - acc: 1.0000 - val_loss: 0.1351 - val_acc: 0.9744\n",
            "Epoch 44/50\n",
            "1401/1401 [==============================] - 1s 871us/step - loss: 4.1209e-07 - acc: 1.0000 - val_loss: 0.1389 - val_acc: 0.9744\n",
            "Epoch 45/50\n",
            "1401/1401 [==============================] - 1s 854us/step - loss: 3.5461e-07 - acc: 1.0000 - val_loss: 0.1380 - val_acc: 0.9744\n",
            "Epoch 46/50\n",
            "1401/1401 [==============================] - 1s 840us/step - loss: 3.0675e-07 - acc: 1.0000 - val_loss: 0.1410 - val_acc: 0.9744\n",
            "Epoch 47/50\n",
            "1401/1401 [==============================] - 1s 846us/step - loss: 2.6828e-07 - acc: 1.0000 - val_loss: 0.1420 - val_acc: 0.9744\n",
            "Epoch 48/50\n",
            "1401/1401 [==============================] - 1s 877us/step - loss: 2.3718e-07 - acc: 1.0000 - val_loss: 0.1445 - val_acc: 0.9744\n",
            "Epoch 49/50\n",
            "1401/1401 [==============================] - 1s 853us/step - loss: 2.1174e-07 - acc: 1.0000 - val_loss: 0.1442 - val_acc: 0.9744\n",
            "Epoch 50/50\n",
            "1401/1401 [==============================] - 1s 862us/step - loss: 1.9043e-07 - acc: 1.0000 - val_loss: 0.1465 - val_acc: 0.9744\n"
          ],
          "name": "stdout"
        }
      ]
    },
    {
      "cell_type": "code",
      "metadata": {
        "id": "aKJv0DIk_k4c",
        "colab_type": "code",
        "outputId": "e12ec33e-728d-49da-bcf3-a5e7374e81ad",
        "colab": {
          "base_uri": "https://localhost:8080/",
          "height": 51
        }
      },
      "source": [
        "loss, accuracy = model.evaluate(X_train, y_train, verbose=False)\n",
        "print(\"Training Accuracy: {:.4f}\".format(accuracy))\n",
        "loss, accuracy = model.evaluate(X_test, y_test, verbose=False)\n",
        "print(\"Testing Accuracy:  {:.4f}\".format(accuracy))"
      ],
      "execution_count": 260,
      "outputs": [
        {
          "output_type": "stream",
          "text": [
            "Training Accuracy: 0.9974\n",
            "Testing Accuracy:  0.9775\n"
          ],
          "name": "stdout"
        }
      ]
    },
    {
      "cell_type": "code",
      "metadata": {
        "id": "swGQSQny_5AS",
        "colab_type": "code",
        "colab": {}
      },
      "source": [
        "import matplotlib.pyplot as plt\n",
        "plt.style.use('ggplot')\n",
        "\n",
        "def plot_history(history):\n",
        "    acc = history.history['acc']\n",
        "    val_acc = history.history['val_acc']\n",
        "    loss = history.history['loss']\n",
        "    val_loss = history.history['val_loss']\n",
        "    x = range(1, len(acc) + 1)\n",
        "\n",
        "    plt.figure(figsize=(12, 5))\n",
        "    plt.subplot(1, 2, 1)\n",
        "    plt.plot(x, acc, 'b', label='Training acc')\n",
        "    plt.plot(x, val_acc, 'r', label='Validation acc')\n",
        "    plt.title('Training and validation accuracy')\n",
        "    plt.legend()\n",
        "    plt.subplot(1, 2, 2)\n",
        "    plt.plot(x, loss, 'b', label='Training loss')\n",
        "    plt.plot(x, val_loss, 'r', label='Validation loss')\n",
        "    plt.title('Training and validation loss')\n",
        "    plt.legend()"
      ],
      "execution_count": 0,
      "outputs": []
    },
    {
      "cell_type": "code",
      "metadata": {
        "id": "GAUmwmx7AC-S",
        "colab_type": "code",
        "outputId": "39b5abaf-c20d-4c0b-83ec-68e1dddc815d",
        "colab": {
          "base_uri": "https://localhost:8080/",
          "height": 337
        }
      },
      "source": [
        "plot_history(history)"
      ],
      "execution_count": 262,
      "outputs": [
        {
          "output_type": "display_data",
          "data": {
            "image/png": "[encoded data removed]",
            "text/plain": [
              "<Figure size 864x360 with 2 Axes>"
            ]
          },
          "metadata": {
            "tags": []
          }
        }
      ]
    },
    {
      "cell_type": "code",
      "metadata": {
        "id": "7us_oSBhFqR-",
        "colab_type": "code",
        "colab": {}
      },
      "source": [
        "y_softmax = model.predict(X_test)\n",
        "\n",
        "y_test_1d = []\n",
        "y_pred_1d = []\n",
        "\n",
        "for i in range(len(y_test)):\n",
        "    probs = y_test[i]\n",
        "    index_arr = np.nonzero(probs)\n",
        "    one_hot_index = index_arr[0].item(0)\n",
        "    y_test_1d.append(one_hot_index)\n",
        "\n",
        "for i in range(0, len(y_softmax)):\n",
        "    probs = y_softmax[i]\n",
        "    predicted_index = np.argmax(probs)\n",
        "    y_pred_1d.append(predicted_index)"
      ],
      "execution_count": 0,
      "outputs": []
    },
    {
      "cell_type": "code",
      "metadata": {
        "id": "Wg-MvkWtRei9",
        "colab_type": "code",
        "colab": {
          "base_uri": "https://localhost:8080/",
          "height": 323
        },
        "outputId": "cf2f67db-0dcb-47b9-914d-65cab4c81147"
      },
      "source": [
        "from sklearn import metrics\n",
        "\n",
        "print(metrics.confusion_matrix(y_test_1d, y_pred_1d))\n",
        "\n",
        "print(metrics.classification_report(y_test_1d, y_pred_1d))\n",
        "\n",
        "from sklearn.metrics import accuracy_score\n",
        "\n",
        "print(\"Accuracy of Deep Model is:\",accuracy_score(y_test_1d, y_pred_1d))\n"
      ],
      "execution_count": 264,
      "outputs": [
        {
          "output_type": "stream",
          "text": [
            "[[146   0   5   0   1]\n",
            " [  0 106   2   1   0]\n",
            " [  2   1 108   1   1]\n",
            " [  0   0   0 177   0]\n",
            " [  0   0   1   0 116]]\n",
            "              precision    recall  f1-score   support\n",
            "\n",
            "           0       0.99      0.96      0.97       152\n",
            "           1       0.99      0.97      0.98       109\n",
            "           2       0.93      0.96      0.94       113\n",
            "           3       0.99      1.00      0.99       177\n",
            "           4       0.98      0.99      0.99       117\n",
            "\n",
            "    accuracy                           0.98       668\n",
            "   macro avg       0.98      0.98      0.98       668\n",
            "weighted avg       0.98      0.98      0.98       668\n",
            "\n",
            "Accuracy of Deep Model is: 0.9775449101796407\n"
          ],
          "name": "stdout"
        }
      ]
    },
    {
      "cell_type": "code",
      "metadata": {
        "id": "lA6fXT8zTVOD",
        "colab_type": "code",
        "colab": {}
      },
      "source": [
        ""
      ],
      "execution_count": 0,
      "outputs": []
    }
  ]
}