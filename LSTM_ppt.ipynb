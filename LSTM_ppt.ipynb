{
  "nbformat": 4,
  "nbformat_minor": 0,
  "metadata": {
    "colab": {
      "name": " LSTM_ppt.ipynb",
      "version": "0.3.2",
      "provenance": [],
      "collapsed_sections": [],
      "include_colab_link": true
    },
    "language_info": {
      "codemirror_mode": {
        "name": "ipython",
        "version": 3
      },
      "file_extension": ".py",
      "mimetype": "text/x-python",
      "name": "python",
      "nbconvert_exporter": "python",
      "pygments_lexer": "ipython3",
      "version": "3.6.8"
    },
    "kernelspec": {
      "display_name": "Python 3",
      "language": "python",
      "name": "python3"
    }
  },
  "cells": [
    {
      "cell_type": "markdown",
      "metadata": {
        "id": "view-in-github",
        "colab_type": "text"
      },
      "source": [
        "<a href=\"https://colab.research.google.com/github/rajkhatana/Stock-Market-Prediction-by-LSTM/blob/master/LSTM_ppt.ipynb\" target=\"_parent\"><img src=\"https://colab.research.google.com/assets/colab-badge.svg\" alt=\"Open In Colab\"/></a>"
      ]
    },
    {
      "cell_type": "markdown",
      "metadata": {
        "colab_type": "text",
        "id": "1MNfk11uwB-N"
      },
      "source": [
        "# <center> LONG SHORT-TERM MEMORY( LSTM ) </center>\n",
        "## <center> Prof. Laxmidhar Behera </center>\n",
        "## <center>IIT Kanpur </center>\n"
      ]
    },
    {
      "cell_type": "markdown",
      "metadata": {
        "colab_type": "text",
        "id": "ELUOB00Ww1Qf"
      },
      "source": [
        "<img src = \"https://drive.google.com/uc?id=1Jr-6cJ0yvIdj3kD-5qXpFvfQikAylXLI\">"
      ]
    },
    {
      "cell_type": "markdown",
      "metadata": {
        "colab_type": "text",
        "id": "u97TdLLtxZoL"
      },
      "source": [
        "<img src=\"https://drive.google.com/uc?id=1op7uUppbnuUaPjaaVnlN92STIsyImxzE\">"
      ]
    },
    {
      "cell_type": "markdown",
      "metadata": {
        "colab_type": "text",
        "id": "BQwL8JKQ3c3w"
      },
      "source": [
        "<img src=\"https://drive.google.com/uc?id=1rP1hOgMIbTlIOsnZ9sV98i7INR8OXf8Q\">"
      ]
    },
    {
      "cell_type": "markdown",
      "metadata": {
        "colab_type": "text",
        "id": "0LtBN7Ye-VvC"
      },
      "source": [
        "<img src=\"https://drive.google.com/uc?id=1P9wsko819-KheixCqViTYX1-FD1BAkxw\">"
      ]
    },
    {
      "cell_type": "markdown",
      "metadata": {
        "colab_type": "text",
        "id": "OX-6fAlY-bTF"
      },
      "source": [
        "<img src=\"https://drive.google.com/uc?id=1cCYwcL2y861bH5jB4mEX-Bizp4bCYzc6\">"
      ]
    },
    {
      "cell_type": "markdown",
      "metadata": {
        "colab_type": "text",
        "id": "IdQiKinH-hSI"
      },
      "source": [
        "<img src=\"https://drive.google.com/uc?id=1U7MyqKYPrnllfCY2jQUryVzGsrZ3bpkD\">"
      ]
    },
    {
      "cell_type": "markdown",
      "metadata": {
        "colab_type": "text",
        "id": "DMv2dwBD-rEG"
      },
      "source": [
        "<img src=\"https://drive.google.com/uc?id=1ngeR2e1SonERKDqJ7W5Fj1UO_xaqFSrK\">"
      ]
    },
    {
      "cell_type": "markdown",
      "metadata": {
        "colab_type": "text",
        "id": "b0g4_wzP-w6-"
      },
      "source": [
        "<img src=\"https://drive.google.com/uc?id=1ugwD7LX4Wclpz_jOfQe0IRX0YKU6pIRb\">"
      ]
    },
    {
      "cell_type": "markdown",
      "metadata": {
        "colab_type": "text",
        "id": "GHLTC0UG-3T5"
      },
      "source": [
        "<img src=\"https://drive.google.com/uc?id=138hbXBBjwipy8og2IEPRQIO_3UZqN6a6\">"
      ]
    },
    {
      "cell_type": "markdown",
      "metadata": {
        "colab_type": "text",
        "id": "CsYUpzoq-_MI"
      },
      "source": [
        "<img src=\"https://drive.google.com/uc?id=1yzjDuB8TDosG3HJiZwrLbYSlQg1wbgtF\">"
      ]
    },
    {
      "cell_type": "markdown",
      "metadata": {
        "colab_type": "text",
        "id": "QY9-yIUp_GVS"
      },
      "source": [
        "<img src=\"https://drive.google.com/uc?id=1Qe5MG4lY6KtDPbyNM7Vfd_3IaHHB1DJg\">"
      ]
    },
    {
      "cell_type": "markdown",
      "metadata": {
        "colab_type": "text",
        "id": "DKUuzEQX_L-p"
      },
      "source": [
        "<img src=\"https://drive.google.com/uc?id=1ItRk-47fp8Pq9g4cuKd1cXBz4PNnAV_b\">"
      ]
    },
    {
      "cell_type": "markdown",
      "metadata": {
        "colab_type": "text",
        "id": "wHnMQvqO_TDL"
      },
      "source": [
        "<img src=\"https://drive.google.com/uc?id=1NybpdnlsIRE_el9vCV8CQxy7bw5m5xWE\">"
      ]
    },
    {
      "cell_type": "markdown",
      "metadata": {
        "colab_type": "text",
        "id": "PBvf9FhW_ZyI"
      },
      "source": [
        "<img src=\"https://drive.google.com/uc?id=1NtkoNI1RlhQZKfHGG-9cx7_ViI_JbnlL\">"
      ]
    },
    {
      "cell_type": "markdown",
      "metadata": {
        "colab_type": "text",
        "id": "Fx0Vxw_L_g7n"
      },
      "source": [
        "<img src=\"https://drive.google.com/uc?id=1GkY3hiRKYXDKHrVHYm9dY0hCbaUJqrlo\">"
      ]
    }
  ]
}