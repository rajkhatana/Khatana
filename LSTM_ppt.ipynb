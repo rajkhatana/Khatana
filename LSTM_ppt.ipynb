{
  "nbformat": 4,
  "nbformat_minor": 0,
  "metadata": {
    "colab": {
      "name": " LSTM_ppt.ipynb",
      "version": "0.3.2",
      "provenance": [],
      "collapsed_sections": [],
      "include_colab_link": true
    },
    "language_info": {
      "codemirror_mode": {
        "name": "ipython",
        "version": 3
      },
      "file_extension": ".py",
      "mimetype": "text/x-python",
      "name": "python",
      "nbconvert_exporter": "python",
      "pygments_lexer": "ipython3",
      "version": "3.6.8"
    },
    "kernelspec": {
      "display_name": "Python 3",
      "language": "python",
      "name": "python3"
    }
  },
  "cells": [
    {
      "cell_type": "markdown",
      "metadata": {
        "id": "view-in-github",
        "colab_type": "text"
      },
      "source": [
        "<a href=\"https://colab.research.google.com/github/rajkhatana/Khatana/blob/master/LSTM_ppt.ipynb\" target=\"_parent\"><img src=\"https://colab.research.google.com/assets/colab-badge.svg\" alt=\"Open In Colab\"/></a>"
      ]
    },
    {
      "cell_type": "markdown",
      "metadata": {
        "colab_type": "text",
        "id": "1MNfk11uwB-N"
      },
      "source": [
        "# <center> LONG SHORT-TERM MEMORY( LSTM ) </center>\n",
        "## <center> Prof. Laxmidhar Behera </center>\n",
        "## <center>IIT Kanpur </center>\n"
      ]
    },
    {
      "cell_type": "markdown",
      "metadata": {
        "colab_type": "text",
        "id": "ELUOB00Ww1Qf"
      },
      "source": [
        "<img src = \"https://drive.google.com/uc?id=1Jr-6cJ0yvIdj3kD-5qXpFvfQikAylXLI\">"
      ]
    },
    {
      "cell_type": "markdown",
      "metadata": {
        "colab_type": "text",
        "id": "u97TdLLtxZoL"
      },
      "source": [
        "<img src=\"https://drive.google.com/uc?id=1op7uUppbnuUaPjaaVnlN92STIsyImxzE\">"
      ]
    },
    {
      "cell_type": "markdown",
      "metadata": {
        "colab_type": "text",
        "id": "BQwL8JKQ3c3w"
      },
      "source": [
        "<img src=\"https://drive.google.com/uc?id=1rP1hOgMIbTlIOsnZ9sV98i7INR8OXf8Q\">"
      ]
    },
    {
      "cell_type": "markdown",
      "metadata": {
        "colab_type": "text",
        "id": "0LtBN7Ye-VvC"
      },
      "source": [
        "<img src=\"https://drive.google.com/uc?id=1P9wsko819-KheixCqViTYX1-FD1BAkxw\">"
      ]
    },
    {
      "cell_type": "markdown",
      "metadata": {
        "colab_type": "text",
        "id": "OX-6fAlY-bTF"
      },
      "source": [
        "<img src=\"https://drive.google.com/uc?id=1cCYwcL2y861bH5jB4mEX-Bizp4bCYzc6\">"
      ]
    },
    {
      "cell_type": "markdown",
      "metadata": {
        "colab_type": "text",
        "id": "IdQiKinH-hSI"
      },
      "source": [
        "<img src=\"https://drive.google.com/uc?id=1U7MyqKYPrnllfCY2jQUryVzGsrZ3bpkD\">"
      ]
    },
    {
      "cell_type": "markdown",
      "metadata": {
        "colab_type": "text",
        "id": "DMv2dwBD-rEG"
      },
      "source": [
        "<img src=\"https://drive.google.com/uc?id=1ngeR2e1SonERKDqJ7W5Fj1UO_xaqFSrK\">"
      ]
    },
    {
      "cell_type": "markdown",
      "metadata": {
        "colab_type": "text",
        "id": "b0g4_wzP-w6-"
      },
      "source": [
        "<img src=\"https://drive.google.com/uc?id=1ugwD7LX4Wclpz_jOfQe0IRX0YKU6pIRb\">"
      ]
    },
    {
      "cell_type": "markdown",
      "metadata": {
        "colab_type": "text",
        "id": "GHLTC0UG-3T5"
      },
      "source": [
        "<img src=\"https://drive.google.com/uc?id=138hbXBBjwipy8og2IEPRQIO_3UZqN6a6\">"
      ]
    },
    {
      "cell_type": "markdown",
      "metadata": {
        "colab_type": "text",
        "id": "CsYUpzoq-_MI"
      },
      "source": [
        "<img src=\"https://drive.google.com/uc?id=1yzjDuB8TDosG3HJiZwrLbYSlQg1wbgtF\">"
      ]
    },
    {
      "cell_type": "markdown",
      "metadata": {
        "colab_type": "text",
        "id": "QY9-yIUp_GVS"
      },
      "source": [
        "<img src=\"https://drive.google.com/uc?id=1Qe5MG4lY6KtDPbyNM7Vfd_3IaHHB1DJg\">"
      ]
    },
    {
      "cell_type": "markdown",
      "metadata": {
        "colab_type": "text",
        "id": "DKUuzEQX_L-p"
      },
      "source": [
        "<img src=\"https://drive.google.com/uc?id=1ItRk-47fp8Pq9g4cuKd1cXBz4PNnAV_b\">"
      ]
    },
    {
      "cell_type": "markdown",
      "metadata": {
        "colab_type": "text",
        "id": "wHnMQvqO_TDL"
      },
      "source": [
        "<img src=\"https://drive.google.com/uc?id=1NybpdnlsIRE_el9vCV8CQxy7bw5m5xWE\">"
      ]
    },
    {
      "cell_type": "markdown",
      "metadata": {
        "colab_type": "text",
        "id": "IzabVGbG_urk"
      },
      "source": [
        "##  LSTM EXAMPLE CODE\t\n",
        "\n",
        "<b>Problem</b>: Download NIFTY50 data from 19/06/18 to 18/06/19 from www.nseindia.com . Use the turnover(in crores) data from 19/06/18 to 18/04/19 as train data and from 19/04/19 to 19/06/19  as test data. <br>\n",
        "---- Take timesteps = 30, i.e, take first 30 days of data as input to predict the turnover on the 31st day.\n",
        "\n",
        "\n",
        "\n"
      ]
    },
    {
      "cell_type": "code",
      "metadata": {
        "id": "QH8h4IsIc6kv",
        "colab_type": "code",
        "colab": {}
      },
      "source": [
        "#Importing Libraries\n",
        "import pandas as pd\n",
        "import numpy as np\n",
        "%matplotlib inline\n",
        "import matplotlib.pyplot as plt\n",
        "from sklearn.preprocessing import MinMaxScaler\n",
        "from sklearn.metrics import r2_score\n",
        "from keras.models import Sequential\n",
        "from keras.layers import Dense\n",
        "from keras.callbacks import EarlyStopping\n",
        "from keras.optimizers import Adam\n",
        "from keras.layers import LSTM\n",
        "from keras.layers import Dense, Activation, Embedding, Dropout, TimeDistributed,Input\n"
      ],
      "execution_count": 0,
      "outputs": []
    },
    {
      "cell_type": "code",
      "metadata": {
        "id": "Hov56PbGc6k4",
        "colab_type": "code",
        "colab": {}
      },
      "source": [
        "### Download data from google drive. You need not mess with this code.\n",
        "\n",
        "import requests\n",
        "\n",
        "def download_file_from_google_drive(id, destination):\n",
        "    URL = \"https://docs.google.com/uc?export=download\"\n",
        "\n",
        "    session = requests.Session()\n",
        "\n",
        "    response = session.get(URL, params = { 'id' : id }, stream = True)\n",
        "    token = get_confirm_token(response)\n",
        "\n",
        "    if token:\n",
        "        params = { 'id' : id, 'confirm' : token }\n",
        "        response = session.get(URL, params = params, stream = True)\n",
        "\n",
        "    save_response_content(response, destination)    \n",
        "\n",
        "def get_confirm_token(response):\n",
        "    for key, value in response.cookies.items():\n",
        "        if key.startswith('download_warning'):\n",
        "            return value\n",
        "\n",
        "    return None\n",
        "\n",
        "def save_response_content(response, destination):\n",
        "    CHUNK_SIZE = 32768\n",
        "\n",
        "    with open(destination, \"wb\") as f:\n",
        "        for chunk in response.iter_content(CHUNK_SIZE):\n",
        "            if chunk: # filter out keep-alive new chunks\n",
        "                f.write(chunk)\n",
        "                \n",
        "if __name__ == \"__main__\":\n",
        "    file_id = '1zwOzXasF6Zs92HtIhj_4tSFeuwTqD6M5'\n",
        "    destination = 'nse50_data.csv'\n",
        "    download_file_from_google_drive(file_id, destination)"
      ],
      "execution_count": 0,
      "outputs": []
    },
    {
      "cell_type": "code",
      "metadata": {
        "id": "_6_iJMdBc6k8",
        "colab_type": "code",
        "outputId": "75d89afa-fb23-4af7-ca29-5e6be823e4e4",
        "colab": {
          "base_uri": "https://localhost:8080/",
          "height": 153
        }
      },
      "source": [
        "# reading the data from data file\n",
        "df = pd.read_csv('nse50_data.csv')\n",
        "print(df[:5])\n"
      ],
      "execution_count": 27,
      "outputs": [
        {
          "output_type": "stream",
          "text": [
            "          Date      Open      High  ...     Close  Shares Traded  Turnover (Rs. Cr)\n",
            "0  19-Jun-2018  10789.45  10789.45  ...  10710.45      231382790           12290.16\n",
            "1  20-Jun-2018  10734.65  10781.80  ...  10772.05      199467082           10858.35\n",
            "2  21-Jun-2018  10808.45  10809.60  ...  10741.10      230507383           12211.18\n",
            "3  22-Jun-2018  10742.70  10837.00  ...  10821.85      236898415           13520.01\n",
            "4  25-Jun-2018  10822.90  10831.05  ...  10762.45      236693278           12012.41\n",
            "\n",
            "[5 rows x 7 columns]\n"
          ],
          "name": "stdout"
        }
      ]
    },
    {
      "cell_type": "code",
      "metadata": {
        "id": "kdiQ4lHSc6lA",
        "colab_type": "code",
        "outputId": "ce9644a0-1164-44f2-d04f-35ce564f8647",
        "colab": {
          "base_uri": "https://localhost:8080/",
          "height": 409
        }
      },
      "source": [
        "# plotting the turnover values\n",
        "data = df.iloc[:,6].values\n",
        "plt.figure(figsize=(10, 6))\n",
        "plt.xlabel('Days')\n",
        "plt.ylabel('Turnover(in crores)')\n",
        "plt.plot(data)"
      ],
      "execution_count": 28,
      "outputs": [
        {
          "output_type": "execute_result",
          "data": {
            "text/plain": [
              "[<matplotlib.lines.Line2D at 0x7f55e54551d0>]"
            ]
          },
          "metadata": {
            "tags": []
          },
          "execution_count": 28
        },
        {
          "output_type": "display_data",
          "data": {
            "image/png": "[encoded data removed]",
            "text/plain": [
              "<Figure size 720x432 with 1 Axes>"
            ]
          },
          "metadata": {
            "tags": []
          }
        }
      ]
    },
    {
      "cell_type": "code",
      "metadata": {
        "id": "65P3LN8nc6lG",
        "colab_type": "code",
        "outputId": "bf7c1b8a-27c4-46c4-f67c-26ddecc1b323",
        "colab": {
          "base_uri": "https://localhost:8080/",
          "height": 102
        }
      },
      "source": [
        "# Divide into train and test data\n",
        "df['Date'] = pd.to_datetime(df['Date'])  \n",
        "mask = (df['Date'] == '2019-4-18')\n",
        "print(df.loc[mask])     # index for the date 18-Apr-2019\n",
        "print('--------------------------------------------')\n",
        "train = data[:205]\n",
        "test = data[175:]\n",
        "# print(train)"
      ],
      "execution_count": 29,
      "outputs": [
        {
          "output_type": "stream",
          "text": [
            "          Date      Open      High  ...    Close  Shares Traded  Turnover (Rs. Cr)\n",
            "205 2019-04-18  11856.15  11856.15  ...  11752.8      339653709           18271.27\n",
            "\n",
            "[1 rows x 7 columns]\n",
            "--------------------------------------------\n"
          ],
          "name": "stdout"
        }
      ]
    },
    {
      "cell_type": "code",
      "metadata": {
        "id": "LtOSw7VDc6lK",
        "colab_type": "code",
        "colab": {}
      },
      "source": [
        "# Normalize the train and test data using min-max scaler\n",
        "sc = MinMaxScaler(feature_range = (0, 1))\n",
        "train = sc.fit_transform(train.reshape(-1,1))\n",
        "test = sc.transform(test.reshape(-1,1))\n"
      ],
      "execution_count": 0,
      "outputs": []
    },
    {
      "cell_type": "code",
      "metadata": {
        "id": "qBYu5C9Dc6lN",
        "colab_type": "code",
        "colab": {}
      },
      "source": [
        "#Create X_train using 30 timesteps for each sample\n",
        "X_train = []\n",
        "y_train = []\n",
        "for i in range(30, train.shape[0]):\n",
        "    X_train.append(train[i-30:i, 0])\n",
        "    y_train.append(train[i, 0])\n",
        "X_train, y_train = np.array(X_train), np.array(y_train)\n",
        "\n"
      ],
      "execution_count": 0,
      "outputs": []
    },
    {
      "cell_type": "code",
      "metadata": {
        "id": "F5mBYf9Fc6lQ",
        "colab_type": "code",
        "outputId": "4e1edfb0-430a-44bb-ad17-a19285492ae4",
        "colab": {
          "base_uri": "https://localhost:8080/",
          "height": 170
        }
      },
      "source": [
        "print(X_train.shape, y_train.shape)\n",
        "print(X_train)\n",
        "print(y_train[:2])"
      ],
      "execution_count": 32,
      "outputs": [
        {
          "output_type": "stream",
          "text": [
            "(175, 30) (175,)\n",
            "[[0.32014897 0.27753191 0.31779817 ... 0.59711237 0.40685077 0.39237244]\n",
            " [0.27753191 0.31779817 0.35675479 ... 0.40685077 0.39237244 0.40965785]\n",
            " [0.31779817 0.35675479 0.31188189 ... 0.39237244 0.40965785 0.38402232]\n",
            " ...\n",
            " [0.49944087 0.76165063 0.40110533 ... 0.43010574 0.61685008 0.38092919]\n",
            " [0.76165063 0.40110533 0.48890961 ... 0.61685008 0.38092919 0.35909428]\n",
            " [0.40110533 0.48890961 0.48566231 ... 0.38092919 0.35909428 0.41972985]]\n",
            "[0.40965785 0.38402232]\n"
          ],
          "name": "stdout"
        }
      ]
    },
    {
      "cell_type": "code",
      "metadata": {
        "id": "1ga6qM5Kc6lV",
        "colab_type": "code",
        "outputId": "19a02621-7cce-4590-8389-074b7644a53a",
        "colab": {
          "base_uri": "https://localhost:8080/",
          "height": 3434
        }
      },
      "source": [
        "# Training LSTM model\n",
        "\n",
        "X_train = np.reshape(X_train, (X_train.shape[0], X_train.shape[1], 1))\n",
        "lstm_model = Sequential()\n",
        "lstm_model.add(LSTM(8, input_shape=(X_train.shape[1], 1), activation='relu',kernel_initializer='lecun_uniform'))\n",
        "lstm_model.add(Dense(1))\n",
        "lstm_model.compile(optimizer = 'adam', loss = 'mean_squared_error')\n",
        "\n",
        "lstm_model.fit(X_train, y_train, epochs = 100, batch_size = 4)\n"
      ],
      "execution_count": 39,
      "outputs": [
        {
          "output_type": "stream",
          "text": [
            "Epoch 1/100\n",
            "175/175 [==============================] - 2s 9ms/step - loss: 0.0764\n",
            "Epoch 2/100\n",
            "175/175 [==============================] - 1s 4ms/step - loss: 0.0153\n",
            "Epoch 3/100\n",
            "175/175 [==============================] - 1s 4ms/step - loss: 0.0144\n",
            "Epoch 4/100\n",
            "175/175 [==============================] - 1s 3ms/step - loss: 0.0135\n",
            "Epoch 5/100\n",
            "175/175 [==============================] - 1s 3ms/step - loss: 0.0130\n",
            "Epoch 6/100\n",
            "175/175 [==============================] - 1s 4ms/step - loss: 0.0128\n",
            "Epoch 7/100\n",
            "175/175 [==============================] - 1s 4ms/step - loss: 0.0123\n",
            "Epoch 8/100\n",
            "175/175 [==============================] - 1s 4ms/step - loss: 0.0124\n",
            "Epoch 9/100\n",
            "175/175 [==============================] - 1s 4ms/step - loss: 0.0120\n",
            "Epoch 10/100\n",
            "175/175 [==============================] - 1s 4ms/step - loss: 0.0117\n",
            "Epoch 11/100\n",
            "175/175 [==============================] - 1s 4ms/step - loss: 0.0116\n",
            "Epoch 12/100\n",
            "175/175 [==============================] - 1s 4ms/step - loss: 0.0115\n",
            "Epoch 13/100\n",
            "175/175 [==============================] - 1s 4ms/step - loss: 0.0119\n",
            "Epoch 14/100\n",
            "175/175 [==============================] - 1s 4ms/step - loss: 0.0117\n",
            "Epoch 15/100\n",
            "175/175 [==============================] - 1s 4ms/step - loss: 0.0115\n",
            "Epoch 16/100\n",
            "175/175 [==============================] - 1s 4ms/step - loss: 0.0113\n",
            "Epoch 17/100\n",
            "175/175 [==============================] - 1s 4ms/step - loss: 0.0112\n",
            "Epoch 18/100\n",
            "175/175 [==============================] - 1s 4ms/step - loss: 0.0116\n",
            "Epoch 19/100\n",
            "175/175 [==============================] - 1s 4ms/step - loss: 0.0116\n",
            "Epoch 20/100\n",
            "175/175 [==============================] - 1s 4ms/step - loss: 0.0117\n",
            "Epoch 21/100\n",
            "175/175 [==============================] - 1s 4ms/step - loss: 0.0115\n",
            "Epoch 22/100\n",
            "175/175 [==============================] - 1s 4ms/step - loss: 0.0115\n",
            "Epoch 23/100\n",
            "175/175 [==============================] - 1s 4ms/step - loss: 0.0113\n",
            "Epoch 24/100\n",
            "175/175 [==============================] - 1s 4ms/step - loss: 0.0112\n",
            "Epoch 25/100\n",
            "175/175 [==============================] - 1s 4ms/step - loss: 0.0114\n",
            "Epoch 26/100\n",
            "175/175 [==============================] - 1s 4ms/step - loss: 0.0114\n",
            "Epoch 27/100\n",
            "175/175 [==============================] - 1s 4ms/step - loss: 0.0114\n",
            "Epoch 28/100\n",
            "175/175 [==============================] - 1s 4ms/step - loss: 0.0111\n",
            "Epoch 29/100\n",
            "175/175 [==============================] - 1s 4ms/step - loss: 0.0111\n",
            "Epoch 30/100\n",
            "175/175 [==============================] - 1s 4ms/step - loss: 0.0116\n",
            "Epoch 31/100\n",
            "175/175 [==============================] - 1s 4ms/step - loss: 0.0113\n",
            "Epoch 32/100\n",
            "175/175 [==============================] - 1s 4ms/step - loss: 0.0113\n",
            "Epoch 33/100\n",
            "175/175 [==============================] - 1s 4ms/step - loss: 0.0115\n",
            "Epoch 34/100\n",
            "175/175 [==============================] - 1s 4ms/step - loss: 0.0112\n",
            "Epoch 35/100\n",
            "175/175 [==============================] - 1s 4ms/step - loss: 0.0112\n",
            "Epoch 36/100\n",
            "175/175 [==============================] - 1s 4ms/step - loss: 0.0116\n",
            "Epoch 37/100\n",
            "175/175 [==============================] - 1s 4ms/step - loss: 0.0114\n",
            "Epoch 38/100\n",
            "175/175 [==============================] - 1s 3ms/step - loss: 0.0114\n",
            "Epoch 39/100\n",
            "175/175 [==============================] - 1s 4ms/step - loss: 0.0113\n",
            "Epoch 40/100\n",
            "175/175 [==============================] - 1s 4ms/step - loss: 0.0113\n",
            "Epoch 41/100\n",
            "175/175 [==============================] - 1s 4ms/step - loss: 0.0113\n",
            "Epoch 42/100\n",
            "175/175 [==============================] - 1s 4ms/step - loss: 0.0114\n",
            "Epoch 43/100\n",
            "175/175 [==============================] - 1s 4ms/step - loss: 0.0113\n",
            "Epoch 44/100\n",
            "175/175 [==============================] - 1s 3ms/step - loss: 0.0112\n",
            "Epoch 45/100\n",
            "175/175 [==============================] - 1s 4ms/step - loss: 0.0114\n",
            "Epoch 46/100\n",
            "175/175 [==============================] - 1s 4ms/step - loss: 0.0116\n",
            "Epoch 47/100\n",
            "175/175 [==============================] - 1s 4ms/step - loss: 0.0112\n",
            "Epoch 48/100\n",
            "175/175 [==============================] - 1s 4ms/step - loss: 0.0115\n",
            "Epoch 49/100\n",
            "175/175 [==============================] - 1s 4ms/step - loss: 0.0114\n",
            "Epoch 50/100\n",
            "175/175 [==============================] - 1s 4ms/step - loss: 0.0118\n",
            "Epoch 51/100\n",
            "175/175 [==============================] - 1s 4ms/step - loss: 0.0114\n",
            "Epoch 52/100\n",
            "175/175 [==============================] - 1s 4ms/step - loss: 0.0115\n",
            "Epoch 53/100\n",
            "175/175 [==============================] - 1s 4ms/step - loss: 0.0113\n",
            "Epoch 54/100\n",
            "175/175 [==============================] - 1s 4ms/step - loss: 0.0113\n",
            "Epoch 55/100\n",
            "175/175 [==============================] - 1s 4ms/step - loss: 0.0110\n",
            "Epoch 56/100\n",
            "175/175 [==============================] - 1s 4ms/step - loss: 0.0112\n",
            "Epoch 57/100\n",
            "175/175 [==============================] - 1s 4ms/step - loss: 0.0112\n",
            "Epoch 58/100\n",
            "175/175 [==============================] - 1s 4ms/step - loss: 0.0113\n",
            "Epoch 59/100\n",
            "175/175 [==============================] - 1s 4ms/step - loss: 0.0115\n",
            "Epoch 60/100\n",
            "175/175 [==============================] - 1s 4ms/step - loss: 0.0112\n",
            "Epoch 61/100\n",
            "175/175 [==============================] - 1s 4ms/step - loss: 0.0112\n",
            "Epoch 62/100\n",
            "175/175 [==============================] - 1s 4ms/step - loss: 0.0111\n",
            "Epoch 63/100\n",
            "175/175 [==============================] - 1s 4ms/step - loss: 0.0115\n",
            "Epoch 64/100\n",
            "175/175 [==============================] - 1s 4ms/step - loss: 0.0111\n",
            "Epoch 65/100\n",
            "175/175 [==============================] - 1s 4ms/step - loss: 0.0112\n",
            "Epoch 66/100\n",
            "175/175 [==============================] - 1s 4ms/step - loss: 0.0113\n",
            "Epoch 67/100\n",
            "175/175 [==============================] - 1s 4ms/step - loss: 0.0112\n",
            "Epoch 68/100\n",
            "175/175 [==============================] - 1s 4ms/step - loss: 0.0111\n",
            "Epoch 69/100\n",
            "175/175 [==============================] - 1s 4ms/step - loss: 0.0113\n",
            "Epoch 70/100\n",
            "175/175 [==============================] - 1s 4ms/step - loss: 0.0112\n",
            "Epoch 71/100\n",
            "175/175 [==============================] - 1s 4ms/step - loss: 0.0112\n",
            "Epoch 72/100\n",
            "175/175 [==============================] - 1s 4ms/step - loss: 0.0112\n",
            "Epoch 73/100\n",
            "175/175 [==============================] - 1s 4ms/step - loss: 0.0113\n",
            "Epoch 74/100\n",
            "175/175 [==============================] - 1s 4ms/step - loss: 0.0111\n",
            "Epoch 75/100\n",
            "175/175 [==============================] - 1s 4ms/step - loss: 0.0111\n",
            "Epoch 76/100\n",
            "175/175 [==============================] - 1s 4ms/step - loss: 0.0112\n",
            "Epoch 77/100\n",
            "175/175 [==============================] - 1s 4ms/step - loss: 0.0113\n",
            "Epoch 78/100\n",
            "175/175 [==============================] - 1s 4ms/step - loss: 0.0112\n",
            "Epoch 79/100\n",
            "175/175 [==============================] - 1s 4ms/step - loss: 0.0118\n",
            "Epoch 80/100\n",
            "175/175 [==============================] - 1s 4ms/step - loss: 0.0113\n",
            "Epoch 81/100\n",
            "175/175 [==============================] - 1s 4ms/step - loss: 0.0111\n",
            "Epoch 82/100\n",
            "175/175 [==============================] - 1s 4ms/step - loss: 0.0112\n",
            "Epoch 83/100\n",
            "175/175 [==============================] - 1s 4ms/step - loss: 0.0112\n",
            "Epoch 84/100\n",
            "175/175 [==============================] - 1s 4ms/step - loss: 0.0112\n",
            "Epoch 85/100\n",
            "175/175 [==============================] - 1s 4ms/step - loss: 0.0113\n",
            "Epoch 86/100\n",
            "175/175 [==============================] - 1s 4ms/step - loss: 0.0112\n",
            "Epoch 87/100\n",
            "175/175 [==============================] - 1s 4ms/step - loss: 0.0111\n",
            "Epoch 88/100\n",
            "175/175 [==============================] - 1s 4ms/step - loss: 0.0117\n",
            "Epoch 89/100\n",
            "175/175 [==============================] - 1s 4ms/step - loss: 0.0114\n",
            "Epoch 90/100\n",
            "175/175 [==============================] - 1s 4ms/step - loss: 0.0111\n",
            "Epoch 91/100\n",
            "175/175 [==============================] - 1s 4ms/step - loss: 0.0112\n",
            "Epoch 92/100\n",
            "175/175 [==============================] - 1s 4ms/step - loss: 0.0116\n",
            "Epoch 93/100\n",
            "175/175 [==============================] - 1s 4ms/step - loss: 0.0114\n",
            "Epoch 94/100\n",
            "175/175 [==============================] - 1s 3ms/step - loss: 0.0112\n",
            "Epoch 95/100\n",
            "175/175 [==============================] - 1s 3ms/step - loss: 0.0112\n",
            "Epoch 96/100\n",
            "175/175 [==============================] - 1s 3ms/step - loss: 0.0114\n",
            "Epoch 97/100\n",
            "175/175 [==============================] - 1s 4ms/step - loss: 0.0114\n",
            "Epoch 98/100\n",
            "175/175 [==============================] - 1s 4ms/step - loss: 0.0112\n",
            "Epoch 99/100\n",
            "175/175 [==============================] - 1s 4ms/step - loss: 0.0111\n",
            "Epoch 100/100\n",
            "175/175 [==============================] - 1s 4ms/step - loss: 0.0113\n"
          ],
          "name": "stdout"
        },
        {
          "output_type": "execute_result",
          "data": {
            "text/plain": [
              "<keras.callbacks.History at 0x7f55e4956390>"
            ]
          },
          "metadata": {
            "tags": []
          },
          "execution_count": 39
        }
      ]
    },
    {
      "cell_type": "code",
      "metadata": {
        "id": "-Lggh7enc6lZ",
        "colab_type": "code",
        "outputId": "3a130063-4e6e-4286-e3db-fff31a27d3f4",
        "colab": {
          "base_uri": "https://localhost:8080/",
          "height": 51
        }
      },
      "source": [
        "# Create X_test using 30 timesteps for each sample\n",
        "X_test = []\n",
        "y_test = []\n",
        "\n",
        "for i in range(30, test.shape[0]):\n",
        "    X_test.append(test[i-30:i, 0])\n",
        "    y_test.append(test[i, 0])\n",
        "X_test, y_test = np.array(X_test), np.array(y_test)\n",
        "print(X_test.shape)\n",
        "X_test = np.reshape(X_test, (X_test.shape[0], X_test.shape[1], 1))\n",
        "print(X_train.shape)"
      ],
      "execution_count": 40,
      "outputs": [
        {
          "output_type": "stream",
          "text": [
            "(40, 30)\n",
            "(175, 30, 1)\n"
          ],
          "name": "stdout"
        }
      ]
    },
    {
      "cell_type": "code",
      "metadata": {
        "id": "I1HCT1PQc6le",
        "colab_type": "code",
        "outputId": "e8b484d7-20ab-49c5-b18a-d2bfc64e0530",
        "colab": {
          "base_uri": "https://localhost:8080/",
          "height": 295
        }
      },
      "source": [
        "# plot predictions vs real turnover on training set\n",
        "predicted = lstm_model.predict(X_train)\n",
        "predicted = sc.inverse_transform(predicted)\n",
        "plt.plot(sc.inverse_transform(train[-175:]), color = 'red', label = 'Turnover')\n",
        "plt.plot(predicted, color = 'green', label = 'Predicted Turnover')\n",
        "plt.title('NIFTY50 Turnover')\n",
        "plt.xlabel('Time')\n",
        "plt.ylabel('Turnover')\n",
        "plt.legend()\n",
        "plt.show()"
      ],
      "execution_count": 41,
      "outputs": [
        {
          "output_type": "display_data",
          "data": {
            "image/png": "[encoded data removed]",
            "text/plain": [
              "<Figure size 432x288 with 1 Axes>"
            ]
          },
          "metadata": {
            "tags": []
          }
        }
      ]
    },
    {
      "cell_type": "code",
      "metadata": {
        "id": "hu0DTikOc6lp",
        "colab_type": "code",
        "outputId": "e13551ea-d5a6-40d9-f093-52d767012f51",
        "colab": {
          "base_uri": "https://localhost:8080/",
          "height": 295
        }
      },
      "source": [
        "# plotting predictions vs true turnover for the test set\n",
        "predicted = lstm_model.predict(X_test)\n",
        "predicted = sc.inverse_transform(predicted)\n",
        "plt.plot(sc.inverse_transform(test[-41:]), color = 'red', label = 'Turnover')\n",
        "plt.plot(predicted, color = 'green', label = 'Predicted Turnover')\n",
        "plt.title('NIFTY50 Turnover')\n",
        "plt.xlabel('Time')\n",
        "plt.ylabel('Turnover')\n",
        "plt.legend()\n",
        "plt.show()"
      ],
      "execution_count": 36,
      "outputs": [
        {
          "output_type": "display_data",
          "data": {
            "image/png": "[encoded data removed]",
            "text/plain": [
              "<Figure size 432x288 with 1 Axes>"
            ]
          },
          "metadata": {
            "tags": []
          }
        }
      ]
    },
    {
      "cell_type": "markdown",
      "metadata": {
        "colab_type": "text",
        "id": "PBvf9FhW_ZyI"
      },
      "source": [
        "<img src=\"https://drive.google.com/uc?id=1NtkoNI1RlhQZKfHGG-9cx7_ViI_JbnlL\">"
      ]
    },
    {
      "cell_type": "markdown",
      "metadata": {
        "colab_type": "text",
        "id": "Fx0Vxw_L_g7n"
      },
      "source": [
        "<img src=\"https://drive.google.com/uc?id=1GkY3hiRKYXDKHrVHYm9dY0hCbaUJqrlo\">"
      ]
    }
  ]
}